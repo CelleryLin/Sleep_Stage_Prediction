{
 "cells": [
  {
   "cell_type": "code",
   "execution_count": 14,
   "metadata": {},
   "outputs": [
    {
     "name": "stdout",
     "output_type": "stream",
     "text": [
      "The autoreload extension is already loaded. To reload it, use:\n",
      "  %reload_ext autoreload\n"
     ]
    }
   ],
   "source": [
    "%load_ext autoreload\n",
    "%autoreload 2"
   ]
  },
  {
   "cell_type": "code",
   "execution_count": null,
   "metadata": {},
   "outputs": [],
   "source": [
    "# this is the code for the convtrans\n",
    "import os\n",
    "import sys\n",
    "import argparse\n",
    "import logging\n",
    "import joblib\n",
    "import pickle\n",
    "import time\n",
    "import torch\n",
    "import pandas as pd\n",
    "import numpy as np\n",
    "from torch.utils.data import DataLoader\n",
    "from art import *\n",
    "import matplotlib.pyplot as plt\n",
    "from tqdm import tqdm\n",
    "\n",
    "from Dataset.ECGDataset import ECGDataset\n",
    "\n",
    "from Models.model import ConvTran_seq, ConvTran_timepos\n",
    "from Models.loss import NoFussCrossEntropyLoss\n",
    "from Models.optimizers import RAdam\n",
    "\n",
    "sys.path.append(os.path.join(os.getcwd(), '../../..'))\n",
    "from stage_code_cvt import stage_code\n",
    "import file_paths"
   ]
  },
  {
   "cell_type": "code",
   "execution_count": 16,
   "metadata": {},
   "outputs": [],
   "source": [
    "device = torch.device(\"cuda\" if torch.cuda.is_available() else \"cpu\")"
   ]
  },
  {
   "cell_type": "code",
   "execution_count": 17,
   "metadata": {},
   "outputs": [],
   "source": [
    "def load_data(data_path, patient_lut):\n",
    "    X_train, y_train, X_test, y_test = [], [], [], []\n",
    "    name_train, name_test = [], []\n",
    "    for i in tqdm(range(len(patient_lut))):\n",
    "        name = patient_lut.iloc[i]['name']\n",
    "        split = patient_lut.iloc[i]['split']\n",
    "\n",
    "        if not os.path.exists(os.path.join(data_path, name+'_combined.tsv')):\n",
    "            continue\n",
    "        \n",
    "        sample = np.loadtxt(os.path.join(data_path, name+'_combined.tsv'), delimiter='\\t')\n",
    "        y = sample[:, 0]\n",
    "        X = sample[:, 1:]\n",
    "        name = [name] * y.shape[0]\n",
    "\n",
    "        if split == 'train':\n",
    "            X_train.extend(X)\n",
    "            y_train.extend(y)\n",
    "            name_train.extend(name)\n",
    "\n",
    "        else:\n",
    "            X_test.extend(X)\n",
    "            y_test.extend(y)\n",
    "            name_test.extend(name)\n",
    "\n",
    "    X_train = np.array(X_train)\n",
    "    y_train = np.array(y_train)\n",
    "    X_test = np.array(X_test)\n",
    "    y_test = np.array(y_test)\n",
    "    name_train = np.array(name_train)\n",
    "    name_test = np.array(name_test)\n",
    "\n",
    "    return X_train, y_train, X_test, y_test, name_train, name_test"
   ]
  },
  {
   "cell_type": "code",
   "execution_count": 19,
   "metadata": {},
   "outputs": [
    {
     "name": "stdout",
     "output_type": "stream",
     "text": [
      "Loading data from source and saving cache\n"
     ]
    },
    {
     "name": "stderr",
     "output_type": "stream",
     "text": [
      "100%|██████████| 807/807 [00:30<00:00, 26.06it/s]\n"
     ]
    }
   ],
   "source": [
    "data_cache_folder = './cache/'\n",
    "cache_file_name = 'data.npz'\n",
    "data_path = 'F:/Cellery/merry/data/label_window/ECG_Rate_010000_pos/'\n",
    "patient_lut = pd.read_csv(file_paths.patient_lut_file)\n",
    "\n",
    "if os.path.exists(data_cache_folder+cache_file_name):\n",
    "    print(\"Loading data from cache\")\n",
    "    data = np.load(data_cache_folder+cache_file_name, allow_pickle=True)\n",
    "    X_train = data['X_train']\n",
    "    y_train = data['y_train']\n",
    "    X_test = data['X_test']\n",
    "    y_test = data['y_test']\n",
    "else:\n",
    "    print(\"Loading data from source and saving cache\")\n",
    "    X_train, y_train, X_test, y_test, name_train, name_test = load_data(data_path, patient_lut)\n",
    "    os.makedirs(os.path.dirname(data_cache_folder), exist_ok=True)\n",
    "    np.savez(data_cache_folder+cache_file_name, \n",
    "        X_train=X_train, \n",
    "        y_train=y_train, \n",
    "        X_test=X_test, \n",
    "        y_test=y_test, \n",
    "        name_train=name_train, \n",
    "        name_test=name_test\n",
    "    )\n",
    "\n",
    "# drop label = -1\n",
    "X_train = X_train[y_train != -1]\n",
    "y_train = y_train[y_train != -1]\n",
    "X_test = X_test[y_test != -1]\n",
    "y_test = y_test[y_test != -1]\n"
   ]
  },
  {
   "cell_type": "code",
   "execution_count": 20,
   "metadata": {},
   "outputs": [
    {
     "name": "stdout",
     "output_type": "stream",
     "text": [
      "1s: 83164 0s: 435876\n"
     ]
    }
   ],
   "source": [
    "np.unique(y_train)\n",
    "\n",
    "print('1s:', np.sum(y_train == 1), '0s:', np.sum(y_train == 0))"
   ]
  },
  {
   "cell_type": "code",
   "execution_count": null,
   "metadata": {},
   "outputs": [],
   "source": [
    "train_dataset = ECGDataset(X_train, y_train, transform=True)\n",
    "test_dataset = ECGDataset(X_test, y_test, transform=False)\n",
    "# val_dataset, train_dataset = torch.utils.data.random_split(train_dataset, [len(train_dataset)//5, len(train_dataset)*4//5])\n",
    "\n",
    "train_loader = DataLoader(train_dataset, batch_size=512, shuffle=True)\n",
    "test_loader = DataLoader(test_dataset, batch_size=512, shuffle=False)\n",
    "# val_loader = DataLoader(val_dataset, batch_size=64, shuffle=False)\n"
   ]
  },
  {
   "cell_type": "code",
   "execution_count": 22,
   "metadata": {},
   "outputs": [
    {
     "name": "stdout",
     "output_type": "stream",
     "text": [
      "torch.Size([512, 2, 150]) torch.Size([512]) torch.Size([512])\n"
     ]
    }
   ],
   "source": [
    "for X, time_pos, Y in train_loader:\n",
    "    print(X.shape, time_pos.shape, Y.shape)\n",
    "    break"
   ]
  },
  {
   "cell_type": "code",
   "execution_count": 23,
   "metadata": {},
   "outputs": [],
   "source": [
    "class FocalLoss(torch.nn.Module):\n",
    "    def __init__(self, gamma=1.5, alpha=0.3):\n",
    "        super(FocalLoss, self).__init__()\n",
    "        self.gamma = gamma\n",
    "        self.alpha = alpha\n",
    "\n",
    "    def forward(self, input, target):\n",
    "        pt = target * input + (1 - target) * (1 - input)\n",
    "        ce = -torch.log(pt)\n",
    "        loss = self.alpha * (1 - pt) ** self.gamma * ce\n",
    "        return loss.mean()"
   ]
  },
  {
   "cell_type": "code",
   "execution_count": null,
   "metadata": {},
   "outputs": [
    {
     "name": "stderr",
     "output_type": "stream",
     "text": [
      "g:\\Cellery\\venv\\myenv38\\lib\\site-packages\\torch\\functional.py:568: UserWarning: torch.meshgrid: in an upcoming release, it will be required to pass the indexing argument. (Triggered internally at  C:\\actions-runner\\_work\\pytorch\\pytorch\\builder\\windows\\pytorch\\aten\\src\\ATen\\native\\TensorShape.cpp:2228.)\n",
      "  return _VF.meshgrid(tensors, **kwargs)  # type: ignore[attr-defined]\n"
     ]
    }
   ],
   "source": [
    "# load model\n",
    "config = {\n",
    "    'max_len': 150,\n",
    "    'Data_shape': (0, 2, 150),\n",
    "    'emb_size': 16,\n",
    "    'num_heads': 8,\n",
    "    'dim_ff': 256,\n",
    "    'Fix_pos_encode': 'tAPE',\n",
    "    'Rel_pos_encode': 'eRPE',\n",
    "    'dropout': 0.01,\n",
    "}\n",
    "\n",
    "\n",
    "model = ConvTran_timepos(config, num_classes=1).to(device)\n",
    "\n",
    "loss_module = torch.nn.BCELoss()\n",
    "# loss_module = FocalLoss()\n",
    "optimizer = RAdam(model.parameters(), lr=5e-3, weight_decay=1e-5)\n",
    "EPOCHS = 50\n",
    "l2_reg = 0"
   ]
  },
  {
   "cell_type": "code",
   "execution_count": 25,
   "metadata": {},
   "outputs": [],
   "source": [
    "def l2_reg_loss(model):\n",
    "    \"\"\"Returns the squared L2 norm of output layer of given model\"\"\"\n",
    "\n",
    "    for name, param in model.named_parameters():\n",
    "        if name == 'output_layer.weight':\n",
    "            return torch.sum(torch.square(param))"
   ]
  },
  {
   "cell_type": "code",
   "execution_count": 26,
   "metadata": {},
   "outputs": [
    {
     "name": "stderr",
     "output_type": "stream",
     "text": [
      "  0%|          | 0/1014 [00:00<?, ?it/s]g:\\Cellery\\venv\\myenv38\\lib\\site-packages\\torch\\nn\\modules\\conv.py:443: UserWarning: Using padding='same' with even kernel lengths and odd dilation may require a zero-padded copy of the input be created (Triggered internally at  C:\\actions-runner\\_work\\pytorch\\pytorch\\builder\\windows\\pytorch\\aten\\src\\ATen\\native\\Convolution.cpp:744.)\n",
      "  return F.conv2d(input, weight, bias, self.stride,\n",
      "g:\\Cellery\\merry_submit\\Sleep_stage_classifier\\Local_classifacation\\ConvTran\\Models\\optimizers.py:103: UserWarning: This overload of add_ is deprecated:\n",
      "\tadd_(Number alpha, Tensor other)\n",
      "Consider using one of the following signatures instead:\n",
      "\tadd_(Tensor other, *, Number alpha) (Triggered internally at  C:\\actions-runner\\_work\\pytorch\\pytorch\\builder\\windows\\pytorch\\torch\\csrc\\utils\\python_arg_parser.cpp:1055.)\n",
      "  p_data_fp32.add_(-group['weight_decay'] * group['lr'], p_data_fp32)\n",
      "100%|██████████| 1014/1014 [02:23<00:00,  7.07it/s]\n"
     ]
    },
    {
     "name": "stdout",
     "output_type": "stream",
     "text": [
      "Epoch 0 | Train Loss: 0.41121890923445514 | Val Loss: 0.3649488874540037\n"
     ]
    },
    {
     "name": "stderr",
     "output_type": "stream",
     "text": [
      "100%|██████████| 1014/1014 [01:42<00:00,  9.94it/s]\n"
     ]
    },
    {
     "name": "stdout",
     "output_type": "stream",
     "text": [
      "Epoch 1 | Train Loss: 0.3486572217482787 | Val Loss: 0.35561600294040174\n"
     ]
    },
    {
     "name": "stderr",
     "output_type": "stream",
     "text": [
      "100%|██████████| 1014/1014 [01:46<00:00,  9.54it/s]\n"
     ]
    },
    {
     "name": "stdout",
     "output_type": "stream",
     "text": [
      "Epoch 2 | Train Loss: 0.32577631218428676 | Val Loss: 0.3124082962469179\n"
     ]
    },
    {
     "name": "stderr",
     "output_type": "stream",
     "text": [
      "100%|██████████| 1014/1014 [01:45<00:00,  9.57it/s]\n"
     ]
    },
    {
     "name": "stdout",
     "output_type": "stream",
     "text": [
      "Epoch 3 | Train Loss: 0.3146695104635209 | Val Loss: 0.3092103358434171\n"
     ]
    },
    {
     "name": "stderr",
     "output_type": "stream",
     "text": [
      "100%|██████████| 1014/1014 [01:45<00:00,  9.61it/s]\n"
     ]
    },
    {
     "name": "stdout",
     "output_type": "stream",
     "text": [
      "Epoch 4 | Train Loss: 0.3070574729929309 | Val Loss: 0.29803827620890677\n"
     ]
    },
    {
     "name": "stderr",
     "output_type": "stream",
     "text": [
      "100%|██████████| 1014/1014 [01:46<00:00,  9.56it/s]\n"
     ]
    },
    {
     "name": "stdout",
     "output_type": "stream",
     "text": [
      "Epoch 5 | Train Loss: 0.3028463459990669 | Val Loss: 0.29846582545005546\n"
     ]
    },
    {
     "name": "stderr",
     "output_type": "stream",
     "text": [
      "100%|██████████| 1014/1014 [01:46<00:00,  9.55it/s]\n"
     ]
    },
    {
     "name": "stdout",
     "output_type": "stream",
     "text": [
      "Epoch 6 | Train Loss: 0.29940099194205017 | Val Loss: 0.2858125037076522\n"
     ]
    },
    {
     "name": "stderr",
     "output_type": "stream",
     "text": [
      "100%|██████████| 1014/1014 [01:46<00:00,  9.53it/s]\n"
     ]
    },
    {
     "name": "stdout",
     "output_type": "stream",
     "text": [
      "Epoch 7 | Train Loss: 0.29634259501563964 | Val Loss: 0.2897789717937002\n"
     ]
    },
    {
     "name": "stderr",
     "output_type": "stream",
     "text": [
      "100%|██████████| 1014/1014 [01:46<00:00,  9.54it/s]\n"
     ]
    },
    {
     "name": "stdout",
     "output_type": "stream",
     "text": [
      "Epoch 8 | Train Loss: 0.29372549494930505 | Val Loss: 0.28824956873241736\n"
     ]
    },
    {
     "name": "stderr",
     "output_type": "stream",
     "text": [
      "100%|██████████| 1014/1014 [01:46<00:00,  9.55it/s]\n"
     ]
    },
    {
     "name": "stdout",
     "output_type": "stream",
     "text": [
      "Epoch 9 | Train Loss: 0.2917225550441347 | Val Loss: 0.2888240112637987\n"
     ]
    },
    {
     "name": "stderr",
     "output_type": "stream",
     "text": [
      "100%|██████████| 1014/1014 [01:44<00:00,  9.70it/s]\n"
     ]
    },
    {
     "name": "stdout",
     "output_type": "stream",
     "text": [
      "Epoch 10 | Train Loss: 0.28889762567580335 | Val Loss: 0.28296458471794517\n"
     ]
    },
    {
     "name": "stderr",
     "output_type": "stream",
     "text": [
      "100%|██████████| 1014/1014 [01:41<00:00,  9.99it/s]\n"
     ]
    },
    {
     "name": "stdout",
     "output_type": "stream",
     "text": [
      "Epoch 11 | Train Loss: 0.2878926727604819 | Val Loss: 0.27972664539607206\n"
     ]
    },
    {
     "name": "stderr",
     "output_type": "stream",
     "text": [
      "100%|██████████| 1014/1014 [01:45<00:00,  9.57it/s]\n"
     ]
    },
    {
     "name": "stdout",
     "output_type": "stream",
     "text": [
      "Epoch 12 | Train Loss: 0.2853079548131314 | Val Loss: 0.2847490771388521\n"
     ]
    },
    {
     "name": "stderr",
     "output_type": "stream",
     "text": [
      "100%|██████████| 1014/1014 [01:46<00:00,  9.54it/s]\n"
     ]
    },
    {
     "name": "stdout",
     "output_type": "stream",
     "text": [
      "Epoch 13 | Train Loss: 0.28357623771744134 | Val Loss: 0.27721494606563024\n"
     ]
    },
    {
     "name": "stderr",
     "output_type": "stream",
     "text": [
      "100%|██████████| 1014/1014 [01:46<00:00,  9.56it/s]\n"
     ]
    },
    {
     "name": "stdout",
     "output_type": "stream",
     "text": [
      "Epoch 14 | Train Loss: 0.28246286495256234 | Val Loss: 0.2929002631987844\n"
     ]
    },
    {
     "name": "stderr",
     "output_type": "stream",
     "text": [
      "100%|██████████| 1014/1014 [01:46<00:00,  9.56it/s]\n"
     ]
    },
    {
     "name": "stdout",
     "output_type": "stream",
     "text": [
      "Epoch 15 | Train Loss: 0.28182530051916543 | Val Loss: 0.284432511335733\n"
     ]
    },
    {
     "name": "stderr",
     "output_type": "stream",
     "text": [
      "100%|██████████| 1014/1014 [01:46<00:00,  9.55it/s]\n"
     ]
    },
    {
     "name": "stdout",
     "output_type": "stream",
     "text": [
      "Epoch 16 | Train Loss: 0.28019489402307796 | Val Loss: 0.2853633526484577\n"
     ]
    },
    {
     "name": "stderr",
     "output_type": "stream",
     "text": [
      "100%|██████████| 1014/1014 [01:43<00:00,  9.81it/s]\n"
     ]
    },
    {
     "name": "stdout",
     "output_type": "stream",
     "text": [
      "Epoch 17 | Train Loss: 0.27939602426993543 | Val Loss: 0.28262728175946644\n"
     ]
    },
    {
     "name": "stderr",
     "output_type": "stream",
     "text": [
      "100%|██████████| 1014/1014 [01:45<00:00,  9.62it/s]\n"
     ]
    },
    {
     "name": "stdout",
     "output_type": "stream",
     "text": [
      "Epoch 18 | Train Loss: 0.27722613185761713 | Val Loss: 0.2863160238430208\n"
     ]
    },
    {
     "name": "stderr",
     "output_type": "stream",
     "text": [
      "100%|██████████| 1014/1014 [01:44<00:00,  9.68it/s]\n"
     ]
    },
    {
     "name": "stdout",
     "output_type": "stream",
     "text": [
      "Epoch 19 | Train Loss: 0.27713441923701554 | Val Loss: 0.28978269583716687\n"
     ]
    },
    {
     "name": "stderr",
     "output_type": "stream",
     "text": [
      "100%|██████████| 1014/1014 [01:45<00:00,  9.64it/s]\n"
     ]
    },
    {
     "name": "stdout",
     "output_type": "stream",
     "text": [
      "Epoch 20 | Train Loss: 0.2754529927814971 | Val Loss: 0.3065873312554797\n"
     ]
    },
    {
     "name": "stderr",
     "output_type": "stream",
     "text": [
      "100%|██████████| 1014/1014 [01:44<00:00,  9.67it/s]\n"
     ]
    },
    {
     "name": "stdout",
     "output_type": "stream",
     "text": [
      "Epoch 21 | Train Loss: 0.2754274855498261 | Val Loss: 0.2796991401180929\n"
     ]
    },
    {
     "name": "stderr",
     "output_type": "stream",
     "text": [
      "100%|██████████| 1014/1014 [01:45<00:00,  9.63it/s]\n"
     ]
    },
    {
     "name": "stdout",
     "output_type": "stream",
     "text": [
      "Epoch 22 | Train Loss: 0.2738813681921075 | Val Loss: 0.27877966037818364\n"
     ]
    },
    {
     "name": "stderr",
     "output_type": "stream",
     "text": [
      "100%|██████████| 1014/1014 [01:44<00:00,  9.73it/s]\n"
     ]
    },
    {
     "name": "stdout",
     "output_type": "stream",
     "text": [
      "Epoch 23 | Train Loss: 0.2732307174090568 | Val Loss: 0.27737382401009\n"
     ]
    },
    {
     "name": "stderr",
     "output_type": "stream",
     "text": [
      "100%|██████████| 1014/1014 [01:45<00:00,  9.61it/s]\n"
     ]
    },
    {
     "name": "stdout",
     "output_type": "stream",
     "text": [
      "Epoch 24 | Train Loss: 0.27299625646962217 | Val Loss: 0.29714710715473913\n"
     ]
    },
    {
     "name": "stderr",
     "output_type": "stream",
     "text": [
      "100%|██████████| 1014/1014 [01:43<00:00,  9.82it/s]\n"
     ]
    },
    {
     "name": "stdout",
     "output_type": "stream",
     "text": [
      "Epoch 25 | Train Loss: 0.27166758903855165 | Val Loss: 0.2800413067699695\n"
     ]
    },
    {
     "name": "stderr",
     "output_type": "stream",
     "text": [
      "100%|██████████| 1014/1014 [01:45<00:00,  9.59it/s]\n"
     ]
    },
    {
     "name": "stdout",
     "output_type": "stream",
     "text": [
      "Epoch 26 | Train Loss: 0.27109652450510263 | Val Loss: 0.2805308248771697\n"
     ]
    },
    {
     "name": "stderr",
     "output_type": "stream",
     "text": [
      "100%|██████████| 1014/1014 [01:41<00:00,  9.95it/s]\n"
     ]
    },
    {
     "name": "stdout",
     "output_type": "stream",
     "text": [
      "Epoch 27 | Train Loss: 0.27066608478684395 | Val Loss: 0.28288988186692704\n"
     ]
    },
    {
     "name": "stderr",
     "output_type": "stream",
     "text": [
      "100%|██████████| 1014/1014 [01:41<00:00, 10.01it/s]\n"
     ]
    },
    {
     "name": "stdout",
     "output_type": "stream",
     "text": [
      "Epoch 28 | Train Loss: 0.26973092807291527 | Val Loss: 0.27643437450941727\n"
     ]
    },
    {
     "name": "stderr",
     "output_type": "stream",
     "text": [
      "100%|██████████| 1014/1014 [01:39<00:00, 10.23it/s]\n"
     ]
    },
    {
     "name": "stdout",
     "output_type": "stream",
     "text": [
      "Epoch 29 | Train Loss: 0.2694586919109967 | Val Loss: 0.27642916603660095\n"
     ]
    },
    {
     "name": "stderr",
     "output_type": "stream",
     "text": [
      "100%|██████████| 1014/1014 [01:40<00:00, 10.09it/s]\n"
     ]
    },
    {
     "name": "stdout",
     "output_type": "stream",
     "text": [
      "Epoch 30 | Train Loss: 0.26890519252542916 | Val Loss: 0.2791208168377682\n"
     ]
    },
    {
     "name": "stderr",
     "output_type": "stream",
     "text": [
      "100%|██████████| 1014/1014 [01:40<00:00, 10.13it/s]\n"
     ]
    },
    {
     "name": "stdout",
     "output_type": "stream",
     "text": [
      "Epoch 31 | Train Loss: 0.26780047868718293 | Val Loss: 0.2799212128228071\n"
     ]
    },
    {
     "name": "stderr",
     "output_type": "stream",
     "text": [
      "100%|██████████| 1014/1014 [01:38<00:00, 10.28it/s]\n"
     ]
    },
    {
     "name": "stdout",
     "output_type": "stream",
     "text": [
      "Epoch 32 | Train Loss: 0.26744717625530046 | Val Loss: 0.2811390535867944\n"
     ]
    },
    {
     "name": "stderr",
     "output_type": "stream",
     "text": [
      "100%|██████████| 1014/1014 [01:35<00:00, 10.63it/s]\n"
     ]
    },
    {
     "name": "stdout",
     "output_type": "stream",
     "text": [
      "Epoch 33 | Train Loss: 0.26711494097930677 | Val Loss: 0.29094608261877175\n"
     ]
    },
    {
     "name": "stderr",
     "output_type": "stream",
     "text": [
      "100%|██████████| 1014/1014 [01:34<00:00, 10.69it/s]\n"
     ]
    },
    {
     "name": "stdout",
     "output_type": "stream",
     "text": [
      "Epoch 34 | Train Loss: 0.266727296573053 | Val Loss: 0.2825015330953257\n"
     ]
    },
    {
     "name": "stderr",
     "output_type": "stream",
     "text": [
      "100%|██████████| 1014/1014 [01:33<00:00, 10.86it/s]\n"
     ]
    },
    {
     "name": "stdout",
     "output_type": "stream",
     "text": [
      "Epoch 35 | Train Loss: 0.26534814237666554 | Val Loss: 0.27785943168766647\n"
     ]
    },
    {
     "name": "stderr",
     "output_type": "stream",
     "text": [
      "100%|██████████| 1014/1014 [01:35<00:00, 10.58it/s]\n"
     ]
    },
    {
     "name": "stdout",
     "output_type": "stream",
     "text": [
      "Epoch 36 | Train Loss: 0.265223003821025 | Val Loss: 0.29334882356378494\n"
     ]
    },
    {
     "name": "stderr",
     "output_type": "stream",
     "text": [
      "100%|██████████| 1014/1014 [01:39<00:00, 10.19it/s]\n"
     ]
    },
    {
     "name": "stdout",
     "output_type": "stream",
     "text": [
      "Epoch 37 | Train Loss: 0.2649745963058293 | Val Loss: 0.2781148013715841\n"
     ]
    },
    {
     "name": "stderr",
     "output_type": "stream",
     "text": [
      "100%|██████████| 1014/1014 [01:40<00:00, 10.11it/s]\n"
     ]
    },
    {
     "name": "stdout",
     "output_type": "stream",
     "text": [
      "Epoch 38 | Train Loss: 0.2643525942395895 | Val Loss: 0.2834917871623623\n"
     ]
    },
    {
     "name": "stderr",
     "output_type": "stream",
     "text": [
      "100%|██████████| 1014/1014 [01:31<00:00, 11.10it/s]\n"
     ]
    },
    {
     "name": "stdout",
     "output_type": "stream",
     "text": [
      "Epoch 39 | Train Loss: 0.2640656926898796 | Val Loss: 0.28238696376888117\n"
     ]
    },
    {
     "name": "stderr",
     "output_type": "stream",
     "text": [
      "100%|██████████| 1014/1014 [01:31<00:00, 11.07it/s]\n"
     ]
    },
    {
     "name": "stdout",
     "output_type": "stream",
     "text": [
      "Epoch 40 | Train Loss: 0.2638856994329825 | Val Loss: 0.2822576046294096\n"
     ]
    },
    {
     "name": "stderr",
     "output_type": "stream",
     "text": [
      "100%|██████████| 1014/1014 [01:35<00:00, 10.62it/s]\n"
     ]
    },
    {
     "name": "stdout",
     "output_type": "stream",
     "text": [
      "Epoch 41 | Train Loss: 0.2628031954521964 | Val Loss: 0.2797952577471733\n"
     ]
    },
    {
     "name": "stderr",
     "output_type": "stream",
     "text": [
      "100%|██████████| 1014/1014 [01:31<00:00, 11.12it/s]\n"
     ]
    },
    {
     "name": "stdout",
     "output_type": "stream",
     "text": [
      "Epoch 42 | Train Loss: 0.2626750228349744 | Val Loss: 0.2804179884493351\n"
     ]
    },
    {
     "name": "stderr",
     "output_type": "stream",
     "text": [
      "100%|██████████| 1014/1014 [01:32<00:00, 10.94it/s]\n"
     ]
    },
    {
     "name": "stdout",
     "output_type": "stream",
     "text": [
      "Epoch 43 | Train Loss: 0.26250025184725867 | Val Loss: 0.29686140548817963\n"
     ]
    },
    {
     "name": "stderr",
     "output_type": "stream",
     "text": [
      "100%|██████████| 1014/1014 [01:34<00:00, 10.78it/s]\n"
     ]
    },
    {
     "name": "stdout",
     "output_type": "stream",
     "text": [
      "Epoch 44 | Train Loss: 0.2617302496551997 | Val Loss: 0.2774286326705193\n"
     ]
    },
    {
     "name": "stderr",
     "output_type": "stream",
     "text": [
      "100%|██████████| 1014/1014 [01:40<00:00, 10.08it/s]\n"
     ]
    },
    {
     "name": "stdout",
     "output_type": "stream",
     "text": [
      "Epoch 45 | Train Loss: 0.2609439191116384 | Val Loss: 0.2847157950456045\n"
     ]
    },
    {
     "name": "stderr",
     "output_type": "stream",
     "text": [
      "100%|██████████| 1014/1014 [01:37<00:00, 10.44it/s]\n"
     ]
    },
    {
     "name": "stdout",
     "output_type": "stream",
     "text": [
      "Epoch 46 | Train Loss: 0.26132634953693057 | Val Loss: 0.28447912241123163\n"
     ]
    },
    {
     "name": "stderr",
     "output_type": "stream",
     "text": [
      "100%|██████████| 1014/1014 [01:39<00:00, 10.16it/s]\n"
     ]
    },
    {
     "name": "stdout",
     "output_type": "stream",
     "text": [
      "Epoch 47 | Train Loss: 0.2603763237419213 | Val Loss: 0.28181754422126987\n"
     ]
    },
    {
     "name": "stderr",
     "output_type": "stream",
     "text": [
      "100%|██████████| 1014/1014 [01:39<00:00, 10.17it/s]\n"
     ]
    },
    {
     "name": "stdout",
     "output_type": "stream",
     "text": [
      "Epoch 48 | Train Loss: 0.26088430822130726 | Val Loss: 0.2793622734291213\n"
     ]
    },
    {
     "name": "stderr",
     "output_type": "stream",
     "text": [
      "100%|██████████| 1014/1014 [01:35<00:00, 10.61it/s]\n"
     ]
    },
    {
     "name": "stdout",
     "output_type": "stream",
     "text": [
      "Epoch 49 | Train Loss: 0.2599091389210972 | Val Loss: 0.2798541663556683\n"
     ]
    }
   ],
   "source": [
    "all_train_losses = []\n",
    "all_val_losses = []\n",
    "\n",
    "for epoch in range(EPOCHS):\n",
    "    model.train()\n",
    "    epoch_loss = 0  # total loss of epoch\n",
    "    total_samples = 0  # total samples in epoch\n",
    "    for i, (X, time_pos, Y) in tqdm(enumerate(train_loader), total=len(train_loader)):\n",
    "        X = X.to(device)\n",
    "        time_pos = time_pos.to(device)\n",
    "        Y = Y.to(device)\n",
    "\n",
    "        pred = model(X, time_pos)\n",
    "        loss = loss_module(pred.squeeze(1), Y)\n",
    "\n",
    "        optimizer.zero_grad()\n",
    "        loss.backward()\n",
    "        torch.nn.utils.clip_grad_norm_(model.parameters(), max_norm=4.0)\n",
    "        optimizer.step()\n",
    "\n",
    "        with torch.no_grad():\n",
    "            epoch_loss += loss.item()  # add total loss of batch\n",
    "\n",
    "    epoch_loss = epoch_loss / len(train_loader)\n",
    "    all_train_losses.append(epoch_loss)\n",
    "\n",
    "    # validation\n",
    "    model.eval()\n",
    "    with torch.no_grad():\n",
    "        val_loss = 0\n",
    "        val_total_samples = 0\n",
    "        for i, (X, time_pos, Y) in enumerate(test_loader):\n",
    "            X = X.to(device)\n",
    "            time_pos = time_pos.to(device)\n",
    "            Y = Y.to(device)\n",
    "\n",
    "            pred = model(X, time_pos)\n",
    "            loss = loss_module(pred.squeeze(1), Y)\n",
    "            val_loss += loss.item()\n",
    "\n",
    "        val_loss = val_loss / len(test_loader)\n",
    "        all_val_losses.append(val_loss)\n",
    "    \n",
    "    # print(f'Epoch {epoch} | Train Loss: {epoch_loss} ')\n",
    "    print(f'Epoch {epoch} | Train Loss: {epoch_loss} | Val Loss: {val_loss}')"
   ]
  },
  {
   "cell_type": "code",
   "execution_count": 27,
   "metadata": {},
   "outputs": [
    {
     "data": {
      "image/png": "[encoded data removed]",
      "text/plain": [
       "<Figure size 640x480 with 1 Axes>"
      ]
     },
     "metadata": {},
     "output_type": "display_data"
    }
   ],
   "source": [
    "plt.figure()\n",
    "plt.plot(all_train_losses, label='Train Loss')\n",
    "plt.plot(all_val_losses, label='Validation Loss')\n",
    "plt.xlabel('Epoch')\n",
    "plt.ylabel('Loss')\n",
    "plt.title('Training and Validation Loss')\n",
    "plt.legend()\n",
    "plt.show()"
   ]
  },
  {
   "cell_type": "code",
   "execution_count": 28,
   "metadata": {},
   "outputs": [
    {
     "name": "stdout",
     "output_type": "stream",
     "text": [
      "Model saved to ./output/20250718172833/model.pth\n"
     ]
    }
   ],
   "source": [
    "# save model\n",
    "import time\n",
    "curr = time.strftime(\"%Y%m%d%H%M%S\", time.localtime())\n",
    "os.makedirs(f'./output/{curr}', exist_ok=True)\n",
    "torch.save(model.state_dict(), f'./output/{curr}/model.pth')\n",
    "print(f'Model saved to ./output/{curr}/model.pth')"
   ]
  },
  {
   "cell_type": "code",
   "execution_count": 97,
   "metadata": {},
   "outputs": [],
   "source": [
    "# load model\n",
    "# model = ConvTran_timepos(config, num_classes=1).to(device)\n",
    "# curr = '20241125165230'\n",
    "# model.load_state_dict(torch.load(f'./output/{curr}/model.pth'))"
   ]
  },
  {
   "cell_type": "code",
   "execution_count": 29,
   "metadata": {},
   "outputs": [],
   "source": [
    "from sklearn.metrics import confusion_matrix\n",
    "\n",
    "def classification_report(y_true, y_pred, mode='marco'):\n",
    "    cm = confusion_matrix(y_true, y_pred)\n",
    "    cm = cm / np.sum(cm)\n",
    "    tn = []; fp = []; fn = []; tp = []\n",
    "    for i in range(cm.shape[0]):\n",
    "        tp.append(cm[i, i])\n",
    "        fp.append(np.sum(cm[i, :]) - cm[i, i])\n",
    "        fn.append(np.sum(cm[:, i]) - cm[i, i])\n",
    "        tn.append(np.sum(cm) - tp[-1] - fp[-1] - fn[-1])\n",
    "\n",
    "    tp = np.array(tp); fp = np.array(fp); fn = np.array(fn); tn = np.array(tn)\n",
    "\n",
    "    # get sensitivity, MCC\n",
    "    if mode == 'macro':\n",
    "        sensitivity = np.mean(tp / (tp + fn))\n",
    "        MCC = np.mean((tp*tn - fp*fn) / np.sqrt((tp+fp)*(tp+fn)*(tn+fp)*(tn+fn)))\n",
    "    elif mode == 'micro':\n",
    "        tp_ = sum(tp); fp_ = sum(fp); fn_ = sum(fn); tn_ = sum(tn)\n",
    "        sensitivity = tp_ / (tp_ + fn_)\n",
    "        MCC = (tp_*tn_ - fp_*fn_) / np.sqrt((tp_+fp_)*(tp_+fn_)*(tn_+fp_)*(tn_+fn_))\n",
    "    else:\n",
    "        raise ValueError('mode should be macro or micro')\n",
    "    \n",
    "    return sensitivity, MCC"
   ]
  },
  {
   "cell_type": "code",
   "execution_count": 30,
   "metadata": {},
   "outputs": [
    {
     "name": "stderr",
     "output_type": "stream",
     "text": [
      "100%|██████████| 1014/1014 [01:15<00:00, 13.41it/s]\n"
     ]
    },
    {
     "name": "stdout",
     "output_type": "stream",
     "text": [
      "Test Loss: 0.253987256488974\n",
      "Train\n",
      "[[425723  10153]\n",
      " [ 45139  38025]]\n",
      "sensitivity: 0.8466980263131006, MCC: 0.548533816930739\n"
     ]
    }
   ],
   "source": [
    "# test for train dataset\n",
    "model.eval()\n",
    "total_loss = 0\n",
    "total_samples = 0\n",
    "all_preds = []\n",
    "all_labels = []\n",
    "\n",
    "with torch.no_grad():\n",
    "    for i, (X, time_pos, Y) in tqdm(enumerate(train_loader), total=len(train_loader)):\n",
    "        X = X.to(device)\n",
    "        time_pos = time_pos.to(device)\n",
    "        Y = Y.to(device)\n",
    "\n",
    "        pred = model(X, time_pos)\n",
    "        loss = loss_module(pred.squeeze(1), Y)\n",
    "        total_loss += loss.item()\n",
    "\n",
    "        all_preds.extend(pred.squeeze(1).detach().cpu().numpy())\n",
    "        all_labels.extend(Y.detach().cpu().numpy())\n",
    "\n",
    "    total_loss = total_loss / len(train_loader)\n",
    "    print(f'Test Loss: {total_loss}')\n",
    "\n",
    "# confusion matrix\n",
    "from sklearn.metrics import confusion_matrix\n",
    "\n",
    "all_preds = np.array(all_preds)\n",
    "all_preds = (all_preds > 0.5).astype(int)\n",
    "all_labels = np.array(all_labels)\n",
    "\n",
    "# classification report\n",
    "sensitivity, MCC = classification_report(all_labels, all_preds, mode='macro')\n",
    "print(\"Train\")\n",
    "print(confusion_matrix(all_labels, all_preds))\n",
    "print(f'sensitivity: {sensitivity}, MCC: {MCC}')\n"
   ]
  },
  {
   "cell_type": "code",
   "execution_count": 32,
   "metadata": {},
   "outputs": [
    {
     "name": "stderr",
     "output_type": "stream",
     "text": [
      "100%|██████████| 245/245 [00:12<00:00, 20.16it/s]\n"
     ]
    },
    {
     "name": "stdout",
     "output_type": "stream",
     "text": [
      "Test Loss: 0.2798541663556683\n",
      "Test\n",
      "[[101605   3141]\n",
      " [ 11556   8802]]\n",
      "sensitivity: 0.8174403826221495, MCC: 0.505429975975123\n"
     ]
    }
   ],
   "source": [
    "# test\n",
    "model.eval()\n",
    "total_loss = 0\n",
    "total_samples = 0\n",
    "all_preds = []\n",
    "all_labels = []\n",
    "\n",
    "with torch.no_grad():\n",
    "    for i, (X, time_pos, Y) in tqdm(enumerate(test_loader), total=len(test_loader)):\n",
    "        X = X.to(device)\n",
    "        time_pos = time_pos.to(device)\n",
    "        Y = Y.to(device)\n",
    "\n",
    "        pred = model(X, time_pos)\n",
    "        loss = loss_module(pred.squeeze(1), Y)\n",
    "        total_loss += loss.item()\n",
    "\n",
    "        all_preds.extend(pred.squeeze(1).detach().cpu().numpy())\n",
    "        all_labels.extend(Y.detach().cpu().numpy())\n",
    "\n",
    "    total_loss = total_loss / len(test_loader)\n",
    "    print(f'Test Loss: {total_loss}')\n",
    "\n",
    "# confusion matrix\n",
    "from sklearn.metrics import confusion_matrix\n",
    "\n",
    "all_preds = np.array(all_preds)\n",
    "all_preds = (all_preds > 0.5).astype(int)\n",
    "all_labels = np.array(all_labels)\n",
    "\n",
    "\n",
    "# print sensitivity, MCC\n",
    "sensitivity, MCC = classification_report(all_labels, all_preds, mode='macro')\n",
    "print(\"Test\")\n",
    "print(confusion_matrix(all_labels, all_preds))\n",
    "print(f'sensitivity: {sensitivity}, MCC: {MCC}')"
   ]
  },
  {
   "cell_type": "code",
   "execution_count": 33,
   "metadata": {},
   "outputs": [
    {
     "data": {
      "image/png": "[encoded data removed]",
      "text/plain": [
       "<Figure size 640x480 with 1 Axes>"
      ]
     },
     "metadata": {},
     "output_type": "display_data"
    }
   ],
   "source": [
    "ind0 = np.where(all_labels == 0)\n",
    "ind1 = np.where(all_labels == 1)\n",
    "\n",
    "# boxplot\n",
    "plt.figure()\n",
    "plt.boxplot([all_preds[ind0], all_preds[ind1]], labels=['0', '1'], showfliers=False)\n",
    "plt.show()"
   ]
  },
  {
   "cell_type": "code",
   "execution_count": 34,
   "metadata": {},
   "outputs": [
    {
     "data": {
      "image/png": "[encoded data removed]",
      "text/plain": [
       "<Figure size 640x480 with 1 Axes>"
      ]
     },
     "metadata": {},
     "output_type": "display_data"
    },
    {
     "name": "stdout",
     "output_type": "stream",
     "text": [
      "1.0\n"
     ]
    }
   ],
   "source": [
    "# auc curve\n",
    "from sklearn.metrics import roc_curve, auc\n",
    "fpr, tpr, thresholds = roc_curve(all_labels, all_preds)\n",
    "roc_auc = auc(fpr, tpr)\n",
    "plt.figure()\n",
    "lw = 2\n",
    "plt.plot(fpr, tpr, color='darkorange',\n",
    "         lw=lw, label='ROC curve (area = %0.2f)' % roc_auc)\n",
    "plt.plot([0, 1], [0, 1], color='navy', lw=lw, linestyle='--')\n",
    "plt.xlim([0.0, 1.0])\n",
    "plt.ylim([0.0, 1.05])\n",
    "plt.xlabel('False Positive Rate')\n",
    "plt.ylabel('True Positive Rate')\n",
    "plt.title('Receiver operating characteristic example')\n",
    "plt.legend(loc=\"lower right\")\n",
    "plt.show()\n",
    "\n",
    "# best threshold\n",
    "best_threshold = thresholds[np.argmax(tpr - fpr)]\n",
    "print(best_threshold)"
   ]
  }
 ],
 "metadata": {
  "kernelspec": {
   "display_name": "myenv38",
   "language": "python",
   "name": "python3"
  },
  "language_info": {
   "codemirror_mode": {
    "name": "ipython",
    "version": 3
   },
   "file_extension": ".py",
   "mimetype": "text/x-python",
   "name": "python",
   "nbconvert_exporter": "python",
   "pygments_lexer": "ipython3",
   "version": "3.8.10"
  }
 },
 "nbformat": 4,
 "nbformat_minor": 2
}
